{
 "cells": [
  {
   "cell_type": "code",
   "execution_count": null,
   "id": "9e464a4b",
   "metadata": {},
   "outputs": [],
   "source": [
    "%load_ext autoreload\n",
    "%autoreload 2"
   ]
  },
  {
   "cell_type": "code",
   "execution_count": null,
   "id": "9957635f",
   "metadata": {},
   "outputs": [],
   "source": [
    "import tqdm, tqdm.notebook\n",
    "tqdm.tqdm = tqdm.notebook.tqdm  # notebook-friendly progress bars\n",
    "from pathlib import Path\n",
    "\n",
    "from hloc import extract_features, match_features, visualization\n",
    "from hloc import triangulation, pairs_from_retrieval, pairs_from_covisibility,colmap_from_nvm\n",
    "from hloc import localize_sfm\n",
    "from hloc.visualization import plot_images, read_image\n",
    "from hloc.utils import viz_3d\n",
    "from PIL import Image\n",
    "import matplotlib.pyplot as plt"
   ]
  },
  {
   "cell_type": "markdown",
   "id": "a72ac394",
   "metadata": {},
   "source": [
    "# Setup"
   ]
  },
  {
   "cell_type": "code",
   "execution_count": null,
   "id": "6b24f930",
   "metadata": {},
   "outputs": [],
   "source": [
    "dataset = Path('datasets/autovision/')\n",
    "images = dataset / \"local_PinholeType_back/images/\"\n",
    "queries = dataset / \"local_PinholeType_back/queries/*.txt\"\n",
    "outputs = Path('outputs/one_north_instant/')\n",
    "# !rm -rf $outputs #clear old files\n",
    "sfm_pairs = outputs / 'pairs-sfm-db.txt' #top 20 most covisible\n",
    "loc_pairs = outputs / 'pairs-dir-q.txt' #top 20 retrieved by deep image retrieval\n",
    "sfm_dir = outputs / 'sfm'\n",
    "results = outputs / 'results.txt'\n",
    "\n",
    "retrieval_conf = extract_features.confs['netvlad']\n",
    "feature_conf = extract_features.confs['superpoint_aachen'] \n",
    "matcher_conf = match_features.confs['superglue-fast']"
   ]
  },
  {
   "cell_type": "code",
   "execution_count": null,
   "id": "6f97fc71",
   "metadata": {},
   "outputs": [],
   "source": [
    "references = [str(p.relative_to(dataset)) for p in (images).iterdir()]\n",
    "print(len(references), \"files\")"
   ]
  },
  {
   "cell_type": "markdown",
   "id": "6f648217",
   "metadata": {},
   "source": [
    "# 提取 database中的特征点（superpoint）& Match the database images（superglue）"
   ]
  },
  {
   "cell_type": "markdown",
   "id": "602409bd",
   "metadata": {},
   "source": [
    "这里先对当前目录下已经存在的图片进行特征点提取，默认初始情况应该是db文件夹非空，query为空文件夹"
   ]
  },
  {
   "cell_type": "code",
   "execution_count": null,
   "id": "c3240698",
   "metadata": {},
   "outputs": [],
   "source": [
    "features = extract_features.main(feature_conf, images, outputs)"
   ]
  },
  {
   "cell_type": "markdown",
   "id": "5f2373b6",
   "metadata": {},
   "source": [
    "这里选出db文件夹中各图像最共视的20个pair，写入pairs-sfm-db.txt"
   ]
  },
  {
   "cell_type": "code",
   "execution_count": null,
   "id": "06872f7a",
   "metadata": {},
   "outputs": [],
   "source": [
    "# select the top 20 most covisible neighbors for each image in the database\n",
    "pairs_from_covisibility.main(\n",
    "    outputs / \"sfm_sift\", sfm_pairs, num_matched=20)"
   ]
  },
  {
   "cell_type": "code",
   "execution_count": null,
   "id": "a27c2a49",
   "metadata": {},
   "outputs": [],
   "source": [
    "# match the dabase images\n",
    "sfm_matches = match_features.main(matcher_conf, sfm_pairs, feature_conf[\"output\"], outputs)"
   ]
  },
  {
   "cell_type": "markdown",
   "id": "8bf0c368",
   "metadata": {},
   "source": [
    "# 根据原sfm模型重建一个稀疏的sfm模型\n",
    "Triangulate the sparse 3D pointcloud given the matches and the reference poses stored in the SIFT COLMAP model."
   ]
  },
  {
   "cell_type": "code",
   "execution_count": null,
   "id": "fcb4340f",
   "metadata": {},
   "outputs": [],
   "source": [
    "reconstruction = triangulation.main(sfm_dir, outputs / \"sfm_sift\", images, sfm_pairs, features, sfm_matches)"
   ]
  },
  {
   "cell_type": "markdown",
   "id": "0a52dcf4",
   "metadata": {},
   "source": [
    "# 提取global descriptors & 粗检索query images"
   ]
  },
  {
   "cell_type": "code",
   "execution_count": null,
   "id": "a29933fa",
   "metadata": {},
   "outputs": [],
   "source": [
    "global_descriptors = extract_features.main(retrieval_conf, images, outputs)"
   ]
  },
  {
   "cell_type": "code",
   "execution_count": null,
   "id": "77fc88d2",
   "metadata": {},
   "outputs": [],
   "source": [
    "features = extract_features.main(feature_conf, images, outputs)\n",
    "pairs_from_retrieval.main(global_descriptors, loc_pairs, num_matched=20, db_prefix=\"db\", query_prefix=\"query\")"
   ]
  },
  {
   "cell_type": "code",
   "execution_count": null,
   "id": "b544db4e",
   "metadata": {},
   "outputs": [],
   "source": [
    "loc_matches = match_features.main(matcher_conf, loc_pairs, feature_conf['output'], outputs)"
   ]
  },
  {
   "cell_type": "markdown",
   "id": "edf9adf4",
   "metadata": {},
   "source": [
    "# 定位估计pose\n",
    "The results saved in results.txt will contain the estimated query poses."
   ]
  },
  {
   "cell_type": "code",
   "execution_count": null,
   "id": "0d65f3b7",
   "metadata": {},
   "outputs": [],
   "source": [
    "#localize one query image\n",
    "localization = localize_sfm.main(\n",
    "    reconstruction,\n",
    "    queries,\n",
    "    loc_pairs,\n",
    "    features,\n",
    "    loc_matches,\n",
    "    results,\n",
    "    covisibility_clustering=False) "
   ]
  },
  {
   "cell_type": "markdown",
   "id": "7f027147",
   "metadata": {},
   "source": [
    "# Visualization"
   ]
  },
  {
   "cell_type": "code",
   "execution_count": null,
   "id": "3d74bbe9",
   "metadata": {},
   "outputs": [],
   "source": [
    "visualization.visualize_loc(results, images, reconstruction, images / \"db\",n=6)"
   ]
  },
  {
   "cell_type": "markdown",
   "id": "1c3d1bf5",
   "metadata": {},
   "source": [
    "读取results"
   ]
  },
  {
   "cell_type": "code",
   "execution_count": null,
   "id": "db0ea6ab",
   "metadata": {},
   "outputs": [],
   "source": [
    "r_path = results\n",
    "names = []\n",
    "qvecs = []\n",
    "tvecs = []\n",
    "with open(r_path, 'r') as f:\n",
    "    for p in f.read().rstrip('\\n').split('\\n'):\n",
    "        if len(p) == 0:\n",
    "            continue\n",
    "        data = p.split()\n",
    "        names.append(data[0])\n",
    "        qvec = []\n",
    "        tvec = []\n",
    "        for i in range(1,5,1):\n",
    "            qvec.append(data[i])\n",
    "        qvecs.append(qvec)\n",
    "        for i in range(5,8,1):\n",
    "            tvec.append(data[i])\n",
    "        tvecs.append(tvec)\n",
    "print(tvecs)"
   ]
  },
  {
   "cell_type": "code",
   "execution_count": null,
   "id": "f5dfb544",
   "metadata": {},
   "outputs": [],
   "source": [
    "import pycolmap\n",
    "\n",
    "fig = viz_3d.init_figure()\n",
    "\n",
    "for i in range(len(names)):\n",
    "    q_name = \"query/\"+names[i]\n",
    "    camera = pycolmap.infer_camera_from_image(images / q_name)\n",
    "    pose = pycolmap.Image(name=names[i],tvec=tvecs[i], qvec=qvecs[i])\n",
    "    viz_3d.plot_camera_colmap(fig, pose, camera, color='rgba(0,255,0,0.5)', name=names[i])\n",
    "fig.show()"
   ]
  },
  {
   "cell_type": "code",
   "execution_count": null,
   "id": "668ad6c1",
   "metadata": {},
   "outputs": [],
   "source": [
    "# debug \n",
    "# 输出检查h5文件\n",
    "i# Visualizationmport hloc.utils.io\n",
    "hloc.utils.io.list_h5_names(outputs / \"feats-superpoint-n4096-rmax1600.h5\")"
   ]
  }
 ],
 "metadata": {
  "kernelspec": {
   "display_name": "Python 3 (ipykernel)",
   "language": "python",
   "name": "python3"
  },
  "language_info": {
   "codemirror_mode": {
    "name": "ipython",
    "version": 3
   },
   "file_extension": ".py",
   "mimetype": "text/x-python",
   "name": "python",
   "nbconvert_exporter": "python",
   "pygments_lexer": "ipython3",
   "version": "3.7.15"
  }
 },
 "nbformat": 4,
 "nbformat_minor": 5
}
